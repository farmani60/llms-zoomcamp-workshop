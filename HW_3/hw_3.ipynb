{
 "cells": [
  {
   "cell_type": "markdown",
   "metadata": {},
   "source": [
    "# Q.1"
   ]
  },
  {
   "cell_type": "code",
   "execution_count": 2,
   "metadata": {},
   "outputs": [
    {
     "name": "stderr",
     "output_type": "stream",
     "text": [
      "/usr/local/python/3.10.13/lib/python3.10/site-packages/tqdm/auto.py:21: TqdmWarning: IProgress not found. Please update jupyter and ipywidgets. See https://ipywidgets.readthedocs.io/en/stable/user_install.html\n",
      "  from .autonotebook import tqdm as notebook_tqdm\n"
     ]
    }
   ],
   "source": [
    "from sentence_transformers import SentenceTransformer"
   ]
  },
  {
   "cell_type": "code",
   "execution_count": 3,
   "metadata": {},
   "outputs": [],
   "source": [
    "model_name = \"multi-qa-distilbert-cos-v1\"\n",
    "embedding_model = SentenceTransformer(model_name)"
   ]
  },
  {
   "cell_type": "code",
   "execution_count": 5,
   "metadata": {},
   "outputs": [],
   "source": [
    "user_question = \"I just discovered the course. Can I still join it?\"\n",
    "embedding = embedding_model.encode(user_question)"
   ]
  },
  {
   "cell_type": "code",
   "execution_count": 7,
   "metadata": {},
   "outputs": [
    {
     "data": {
      "text/plain": [
       "0.078222655"
      ]
     },
     "execution_count": 7,
     "metadata": {},
     "output_type": "execute_result"
    }
   ],
   "source": [
    "embedding[0]"
   ]
  },
  {
   "cell_type": "code",
   "execution_count": 8,
   "metadata": {},
   "outputs": [],
   "source": [
    "import requests \n",
    "\n",
    "base_url = 'https://github.com/DataTalksClub/llm-zoomcamp/blob/main'\n",
    "relative_url = '03-vector-search/eval/documents-with-ids.json'\n",
    "docs_url = f'{base_url}/{relative_url}?raw=1'\n",
    "docs_response = requests.get(docs_url)\n",
    "documents = docs_response.json()"
   ]
  },
  {
   "cell_type": "markdown",
   "metadata": {},
   "source": [
    "# Q.2"
   ]
  },
  {
   "cell_type": "code",
   "execution_count": 21,
   "metadata": {},
   "outputs": [],
   "source": [
    "embeddings = []\n",
    "\n",
    "for doc in documents:\n",
    "    qa_text = f\"{doc['question']} {doc['text']}\"\n",
    "    embedding = embedding_model.encode(qa_text).tolist()\n",
    "    embeddings.append(embedding)"
   ]
  },
  {
   "cell_type": "code",
   "execution_count": 22,
   "metadata": {},
   "outputs": [
    {
     "data": {
      "text/plain": [
       "(948, 768)"
      ]
     },
     "execution_count": 22,
     "metadata": {},
     "output_type": "execute_result"
    }
   ],
   "source": [
    "import numpy as np\n",
    "\n",
    "X = np.array(embeddings)\n",
    "X.shape"
   ]
  },
  {
   "cell_type": "markdown",
   "metadata": {},
   "source": [
    "# Q.3"
   ]
  },
  {
   "cell_type": "code",
   "execution_count": 33,
   "metadata": {},
   "outputs": [],
   "source": [
    "v = embedding"
   ]
  },
  {
   "cell_type": "code",
   "execution_count": 36,
   "metadata": {},
   "outputs": [],
   "source": [
    "scores = X.dot(v)"
   ]
  },
  {
   "cell_type": "code",
   "execution_count": 37,
   "metadata": {},
   "outputs": [
    {
     "data": {
      "text/plain": [
       "array([-2.26247554e-04,  1.46293212e-01,  3.36397244e-02, -7.55514930e-03,\n",
       "        3.30942720e-01,  1.25347289e-01,  2.48137664e-01,  1.37767125e-01,\n",
       "        7.30194922e-02,  2.93089759e-02, -1.12574597e-02,  6.74266451e-02,\n",
       "        1.94063765e-02,  2.52825476e-02,  6.40743148e-02, -2.03856430e-02,\n",
       "        1.30665729e-01,  7.70493156e-03, -3.62687578e-02,  5.13908948e-02,\n",
       "        1.96568719e-01,  1.91869196e-01,  2.01685225e-01,  2.18906288e-01,\n",
       "        1.85444111e-01,  7.93294522e-02,  1.14318718e-01,  1.71254438e-01,\n",
       "        2.38735331e-01,  6.83580309e-02,  5.39974512e-02,  2.03193553e-01,\n",
       "        5.84990845e-02,  1.03802203e-01,  1.27347372e-01, -1.72261397e-03,\n",
       "        1.11883599e-01,  6.39170403e-02,  7.77498050e-02,  2.30139904e-01,\n",
       "        4.48720818e-02,  1.69397091e-01,  1.49489494e-01, -6.46743346e-02,\n",
       "        1.17909706e-01,  8.84993761e-02, -1.00484974e-02,  1.24248157e-01,\n",
       "        9.53606455e-02,  8.04818865e-02,  1.23677061e-01,  1.72347088e-01,\n",
       "        9.86671534e-02,  1.18304619e-01,  1.14555381e-01,  3.00169659e-01,\n",
       "        7.65749569e-02,  1.11208117e-01,  9.56332553e-02,  5.75674883e-02,\n",
       "        9.66218895e-02,  1.35550769e-01,  5.17614240e-02,  1.96006014e-01,\n",
       "        2.17327407e-01,  2.05773509e-01,  1.90900371e-01,  2.09773533e-01,\n",
       "        1.93286798e-01,  1.97126612e-01,  1.86573088e-01,  7.01091054e-02,\n",
       "        2.37590759e-01,  1.52281289e-01,  2.37180942e-01,  1.90926140e-01,\n",
       "        1.57810746e-01,  1.31292239e-01,  1.88561158e-01,  2.10691232e-01,\n",
       "        1.95258844e-01,  2.13997361e-01,  2.06400516e-01,  1.87165715e-01,\n",
       "        1.98778363e-01,  1.49064395e-01,  1.39691059e-01,  1.20987934e-01,\n",
       "        1.67742198e-01,  1.81523802e-01,  9.86878936e-02,  2.02461758e-01,\n",
       "        1.92431227e-01,  1.29894813e-01,  1.75667569e-01,  2.34164227e-01,\n",
       "        4.96809966e-02,  1.19108984e-01,  3.41458251e-02,  1.21549130e-01,\n",
       "       -1.33647407e-02,  1.27977667e-01,  1.78338669e-01,  7.76491860e-02,\n",
       "        1.63606609e-01,  1.68251301e-01,  1.31098863e-01,  3.16323575e-02,\n",
       "        1.78037038e-01,  1.37904881e-01,  1.84617657e-01,  1.81390320e-01,\n",
       "        9.12336831e-02,  2.49580245e-03,  1.30177780e-01,  1.48467647e-01,\n",
       "        1.12270454e-01,  5.37552282e-02,  1.16337016e-01,  5.30225369e-02,\n",
       "        1.61080058e-01,  8.56270697e-03,  1.28647424e-01,  7.35946968e-02,\n",
       "        7.39918101e-02,  8.87867156e-02,  2.37794746e-01,  3.37991906e-01,\n",
       "        1.35753460e-01,  9.68831755e-02,  1.36961599e-01,  3.20159361e-01,\n",
       "        1.06526467e-01,  1.81959155e-01,  3.32892071e-01,  1.13268777e-01,\n",
       "        1.23858039e-01,  1.87729327e-01,  1.31182344e-01,  1.48952712e-01,\n",
       "        5.54310385e-02,  6.31811114e-02,  4.10779235e-01,  3.82392277e-01,\n",
       "        3.82090068e-01,  4.37789788e-01,  3.80704039e-01,  3.79517501e-01,\n",
       "        3.93446348e-01,  3.45378994e-01,  4.62717385e-01,  3.94958815e-01,\n",
       "        4.29280805e-01,  1.52439228e-01, -1.30275480e-02,  4.43722424e-03,\n",
       "        7.15751834e-02,  1.18801361e-01,  1.32574555e-01,  1.34467933e-01,\n",
       "        9.32249002e-02,  1.13718785e-01,  1.16977069e-01,  1.98633007e-01,\n",
       "        1.37112411e-01,  5.31983644e-02,  7.09588561e-02,  1.56862790e-01,\n",
       "        1.49477439e-01,  1.33952879e-01,  6.98361700e-02,  4.39396298e-01,\n",
       "        2.50020417e-01,  5.66172224e-01,  5.13609645e-01,  1.90747278e-01,\n",
       "        2.93863661e-01, -1.89358033e-02,  1.76826887e-01,  1.96564465e-01,\n",
       "        2.55808053e-01,  1.71183007e-01,  2.22226124e-01,  2.99146063e-01,\n",
       "        1.12946930e-01,  4.81556527e-02,  2.82869260e-02,  3.06443698e-01,\n",
       "        1.62759984e-01,  7.44409502e-02,  1.85717990e-01,  2.29283986e-01,\n",
       "       -6.46383804e-03,  2.45214256e-01,  1.35361729e-01,  1.22823662e-01,\n",
       "        1.77947535e-01,  2.05577716e-01,  1.38765944e-01,  1.48422135e-01,\n",
       "        1.73454971e-01,  1.66269003e-01,  1.73779079e-01,  1.09981767e-01,\n",
       "        1.70997108e-01,  1.63570804e-01,  1.27452710e-01,  1.39848574e-01,\n",
       "        1.53924248e-01,  2.11507575e-02,  4.16487675e-02,  1.01410997e-01,\n",
       "        1.58777412e-01,  1.51094174e-01,  1.18515615e-01,  1.65874876e-01,\n",
       "        1.61976989e-01,  1.94423009e-01,  1.75801106e-01,  2.05091715e-02,\n",
       "        1.47257452e-01,  1.53422518e-01,  7.24225374e-02,  1.30180049e-01,\n",
       "       -2.33762105e-02,  2.17084495e-01,  2.01418767e-01,  1.49378458e-01,\n",
       "        2.82772652e-01,  1.54444452e-01,  1.10188642e-01,  1.21993090e-01,\n",
       "        1.14316504e-01,  1.13396441e-02, -1.11937571e-02,  5.98698682e-02,\n",
       "       -1.25313622e-02, -3.18303642e-02, -1.24536479e-02,  1.24455026e-01,\n",
       "        6.47635567e-02,  2.84096209e-01,  1.87439097e-01,  1.69800112e-01,\n",
       "        3.57411202e-01,  3.10894118e-01,  2.58204012e-01,  3.16771422e-01,\n",
       "        1.48252129e-01,  2.12462525e-01,  1.79237006e-01,  1.06549145e-01,\n",
       "        1.94626154e-01,  1.49676385e-01,  1.82486247e-01,  2.26316622e-01,\n",
       "        1.86998913e-01,  1.74540614e-01,  2.14449422e-01,  2.42618200e-01,\n",
       "        1.41440628e-01,  6.23262475e-02,  9.90024706e-02,  1.87756228e-01,\n",
       "        1.82979903e-01,  2.09026612e-01,  1.90385384e-01,  2.31109385e-01,\n",
       "        1.67048458e-01,  1.91256552e-01,  3.71049190e-01,  2.71686320e-01,\n",
       "        1.25905518e-01,  8.92085270e-02,  9.67187874e-02,  8.47885405e-02,\n",
       "        1.65435947e-01,  2.31775371e-01,  1.52160524e-01,  2.65430345e-01,\n",
       "        1.57145210e-01,  4.44734572e-02,  2.36120534e-01,  2.67552957e-01,\n",
       "        1.64334889e-01,  1.38364147e-01,  1.06383417e-01,  4.73536257e-02,\n",
       "        7.24655768e-02,  8.59129983e-02,  1.50430573e-01,  1.51750752e-01,\n",
       "        2.40162798e-01,  2.52090362e-01,  2.84474326e-01,  2.62861973e-01,\n",
       "        9.35436655e-02,  1.19679932e-01,  1.36400513e-01,  1.35030603e-01,\n",
       "        2.21057401e-01,  1.96314376e-01,  4.25970019e-01,  1.87192888e-01,\n",
       "        2.81890557e-01,  2.40501444e-01,  1.92626659e-01,  1.70220568e-01,\n",
       "        1.29319863e-01,  1.06709001e-01,  1.54742640e-01,  8.83540677e-02,\n",
       "        9.54475735e-02,  1.25295764e-02,  1.42197096e-01,  6.70785022e-02,\n",
       "        7.28585018e-02,  5.17453336e-02,  1.66858366e-01,  4.57423407e-02,\n",
       "        1.06790106e-01,  1.00674895e-01,  1.12015931e-01,  9.90233183e-02,\n",
       "        7.57999548e-02,  1.04466616e-01,  2.77078553e-01,  8.59069487e-02,\n",
       "       -6.00057015e-02,  1.38913842e-01,  1.16395741e-01,  6.48792690e-02,\n",
       "        1.45297908e-01,  1.10814008e-01,  5.42097392e-03,  1.56002850e-01,\n",
       "        9.31151940e-02,  1.37582414e-01,  1.27878759e-01,  1.56218865e-01,\n",
       "        1.19842776e-01,  1.51111637e-01,  1.60295715e-01,  1.59518148e-01,\n",
       "        1.34591377e-01,  1.33755810e-01,  4.44454723e-02,  1.12192570e-01,\n",
       "        1.56844341e-01,  9.98799736e-02,  9.05195106e-02, -1.34482939e-02,\n",
       "        1.42997329e-02,  1.61687676e-01,  1.34223650e-01,  1.15790312e-01,\n",
       "        2.50676907e-01,  1.84594067e-01,  2.01852486e-01,  1.79489009e-01,\n",
       "        2.38010081e-01,  8.51739179e-02,  5.23585308e-03,  3.88239659e-01,\n",
       "        1.47902623e-02,  1.12002747e-01,  1.65190383e-01,  8.95193631e-02,\n",
       "        1.67474868e-01,  1.67617079e-01,  4.76932079e-02,  1.54126173e-01,\n",
       "        1.69090056e-01,  5.66749957e-02,  1.22858216e-01,  6.65673830e-02,\n",
       "        3.19472725e-01,  1.47689571e-01,  5.00146201e-02,  2.22664566e-01,\n",
       "       -1.03481728e-02,  1.91387307e-01,  1.38821160e-01,  1.94361947e-01,\n",
       "        2.01613766e-01,  1.51785284e-01,  7.85119221e-02,  1.81969669e-01,\n",
       "        9.47471558e-02,  1.32603618e-01,  1.13484397e-01,  8.90258472e-02,\n",
       "        1.82805760e-01,  1.43589874e-01,  1.32383870e-01,  4.47276664e-02,\n",
       "        1.37909109e-01,  7.71769761e-02,  7.40030212e-02,  4.50744373e-03,\n",
       "        8.97362472e-02,  1.38471144e-01,  1.45426889e-01,  1.63755465e-01,\n",
       "        8.44697673e-02,  9.58878990e-02,  1.01224664e-01,  9.70688551e-02,\n",
       "        2.11223198e-01,  5.61767780e-02,  2.09902959e-01, -6.23629447e-02,\n",
       "        2.66581680e-02,  5.99295767e-02, -3.33784343e-02,  1.93956187e-01,\n",
       "        1.38902308e-01,  2.65066346e-02,  1.73142665e-01,  1.94773396e-01,\n",
       "       -7.08082542e-03,  5.32234380e-02,  1.24895429e-01,  1.92947918e-02,\n",
       "        9.38960631e-02,  9.10848407e-02,  1.34495704e-01, -2.17388193e-02,\n",
       "        8.86683493e-02,  9.83316376e-02,  8.44935805e-02,  8.21672168e-02,\n",
       "       -8.85908218e-02,  1.68083558e-01,  2.63898947e-01,  1.11735192e-01,\n",
       "        2.76052811e-02, -1.11022327e-02, -4.71250140e-02, -3.89944676e-02,\n",
       "        5.44506399e-02,  5.85149381e-02,  2.68972151e-02,  2.16738955e-02,\n",
       "        8.24047221e-03, -1.46174791e-03,  7.35585558e-02,  1.19996503e-01,\n",
       "        1.63525403e-02,  4.67021694e-02,  6.85376207e-02, -8.89127961e-03,\n",
       "        7.15589794e-02,  1.21523597e-01, -3.41413844e-02,  9.68282805e-02,\n",
       "        4.25427769e-02,  1.48784937e-01, -5.22233700e-02,  8.40569942e-02,\n",
       "        3.26261911e-02, -4.62720368e-03,  1.62962752e-01, -2.70329776e-02,\n",
       "        1.39837439e-01, -5.36213683e-02,  1.92897468e-01,  2.22657640e-01,\n",
       "        1.55943876e-01,  1.14445400e-01,  2.28707276e-01, -3.03726826e-02,\n",
       "        2.94337330e-03,  2.12299240e-02,  2.20183422e-02,  5.25068641e-02,\n",
       "       -7.25195245e-03, -8.55505109e-03, -3.86945423e-02, -1.10340381e-02,\n",
       "       -5.11299108e-02,  1.68047906e-01,  1.17576440e-01, -1.12623134e-02,\n",
       "       -6.51751836e-03,  1.49013521e-01,  1.47327023e-02, -1.13887107e-02,\n",
       "        5.96257944e-02,  1.22822630e-01,  1.49622112e-02,  1.54626007e-01,\n",
       "        1.04540591e-02,  1.94377685e-02,  8.66683274e-02,  6.95799680e-02,\n",
       "        1.90808861e-02, -3.92428390e-02, -6.91251917e-02, -1.29502310e-02,\n",
       "        2.37958278e-02,  3.54840585e-03,  5.34260349e-02,  2.69715798e-02,\n",
       "        6.38827795e-02, -3.60221788e-03, -1.02764590e-02,  5.55811265e-02,\n",
       "       -4.80480789e-02, -6.74629046e-02, -5.63441665e-02,  4.44532387e-02,\n",
       "       -4.55133664e-02, -5.83833372e-02, -4.23679885e-02,  1.13572035e-01,\n",
       "       -6.03999602e-03,  1.03690036e-01, -3.82032135e-02,  3.78995928e-02,\n",
       "        1.02951107e-01,  2.40805047e-02,  8.35228824e-02,  4.89919932e-02,\n",
       "       -7.03914675e-03, -2.35252382e-02, -1.65588882e-02,  7.98620822e-02,\n",
       "        1.06562490e-01,  8.46776269e-02,  5.87607572e-02,  1.66267163e-01,\n",
       "        8.79142338e-02,  2.27207845e-02,  4.16879078e-02,  1.55267805e-01,\n",
       "        1.34768766e-01, -2.30404898e-02,  1.05740023e-01,  1.61151436e-02,\n",
       "       -8.41830148e-04,  2.54516050e-02, -1.93216946e-02, -2.34101862e-02,\n",
       "        2.85557365e-02,  3.50816981e-02,  9.96643500e-02,  4.07611739e-02,\n",
       "       -3.89481855e-02,  1.66916537e-02, -6.95041268e-03,  6.47172785e-03,\n",
       "        4.09878503e-02,  9.33162796e-02,  1.16277948e-02, -4.99591954e-02,\n",
       "        8.45267411e-02,  6.50759211e-02, -2.34036214e-02, -4.83233256e-02,\n",
       "        1.60178099e-02, -5.70329710e-02,  7.04492736e-02, -2.61193374e-02,\n",
       "       -1.00584735e-01,  1.30283587e-01,  2.69678875e-02,  6.04228356e-02,\n",
       "        4.65741255e-02,  6.15156691e-02,  4.16870664e-02, -3.09705836e-02,\n",
       "       -9.80354075e-02, -4.06896659e-02, -7.04288357e-02,  8.08215549e-02,\n",
       "        4.75424925e-02,  4.98086372e-03, -5.18502135e-02, -3.58885463e-02,\n",
       "        2.83802305e-04, -4.67828126e-02, -1.34892006e-02,  7.00379984e-02,\n",
       "       -4.05492132e-02,  1.20542470e-02,  7.03295425e-03,  9.81445989e-02,\n",
       "        2.98676772e-01, -1.67824544e-02,  9.95131002e-02,  2.33164392e-02,\n",
       "        8.43798549e-02,  1.06778063e-01, -1.97284027e-02,  6.74062511e-02,\n",
       "        1.66995564e-01,  6.17156395e-02,  2.27872539e-01,  1.04509721e-01,\n",
       "        2.78533385e-02,  1.23444741e-01,  3.20061359e-02,  9.49271867e-02,\n",
       "        6.53958320e-02,  9.73669913e-02,  2.02668030e-01,  1.72837714e-01,\n",
       "        2.72242005e-03,  1.95546778e-03,  6.29777320e-02,  1.81452929e-01,\n",
       "        1.01524438e-01,  1.84899715e-01,  1.31618628e-01,  3.05234962e-01,\n",
       "        1.21444648e-01,  5.19493046e-02,  4.54369694e-02, -4.45612380e-02,\n",
       "        1.47395072e-01,  8.29789082e-02,  2.16163126e-01,  1.72909370e-01,\n",
       "        3.01820207e-01,  8.23841761e-02,  1.24431784e-01,  1.36871260e-01,\n",
       "        2.28988842e-03,  4.14473630e-02, -1.50662636e-03,  2.12558197e-01,\n",
       "        9.49123370e-02,  1.48656240e-01,  1.47705695e-01, -7.47006736e-03,\n",
       "        2.54808366e-03,  3.51610971e-01,  3.48013289e-01,  6.49519554e-02,\n",
       "        2.54615946e-02,  4.01922832e-02,  1.51956853e-01,  7.92716488e-02,\n",
       "        1.84832346e-02,  5.26381336e-02,  5.13298742e-02,  6.36288451e-03,\n",
       "        4.33757986e-02,  7.86834702e-02,  2.41251761e-02, -1.60772642e-02,\n",
       "        9.64113534e-02,  7.75966643e-02,  4.22215852e-02,  5.67433305e-03,\n",
       "        9.98660148e-02,  4.11870834e-02,  1.42575177e-01,  3.11605352e-02,\n",
       "        8.32661368e-02,  8.58427387e-02,  1.07934596e-01, -6.58464461e-02,\n",
       "        4.59215733e-02,  1.73535939e-01,  5.12650075e-02,  1.80051003e-02,\n",
       "        4.56298217e-02,  1.54752193e-01,  2.13283037e-01,  1.92517800e-01,\n",
       "        6.57103771e-02,  5.62241604e-02,  1.18917245e-01,  1.84295416e-01,\n",
       "        1.69941067e-01,  7.73451128e-02,  1.78617525e-01,  1.12470735e-01,\n",
       "        1.29910978e-01, -8.69726504e-03,  1.04004158e-01, -8.23128447e-02,\n",
       "       -1.02713570e-01,  9.86221732e-02,  5.04097183e-02,  1.83731956e-01,\n",
       "       -3.36998107e-02,  1.46946089e-01, -5.00666807e-02, -3.67837578e-02,\n",
       "        3.69313315e-02,  6.61977006e-02,  1.81593203e-01,  5.63305666e-02,\n",
       "        1.42915234e-01,  4.11499513e-02,  1.68060818e-01,  1.76602447e-01,\n",
       "        1.62893747e-01, -7.77311319e-03,  2.74400127e-01,  9.93197431e-02,\n",
       "        1.76636699e-01,  1.47924293e-01,  3.09768271e-01,  2.08481602e-01,\n",
       "        1.28913796e-01,  1.21040684e-01, -6.13135619e-02,  1.37213543e-01,\n",
       "        2.04976122e-01,  2.10938134e-01,  2.35155726e-01,  2.92999892e-01,\n",
       "        1.80795504e-01,  1.21423624e-01,  4.02979653e-02,  3.42916663e-01,\n",
       "        3.03773354e-01,  1.36392157e-01,  3.25246492e-01,  2.06912312e-01,\n",
       "        6.36171846e-02,  2.61195518e-01,  1.63077525e-01,  1.12822176e-01,\n",
       "        2.26453569e-02,  1.28216517e-01,  2.25288981e-01,  6.97528228e-02,\n",
       "        1.06153720e-01,  2.22972096e-01,  2.57400666e-01,  1.24323582e-01,\n",
       "        1.58903689e-01,  3.46992864e-02,  5.14942965e-02,  2.08913870e-02,\n",
       "        2.13654919e-01,  3.67927762e-01,  4.20207417e-02,  7.53437729e-02,\n",
       "        1.32622967e-01,  3.19120245e-02,  4.49939507e-02,  2.79182188e-01,\n",
       "        2.27168868e-01,  7.72437486e-02,  1.73192508e-01,  1.65711672e-01,\n",
       "        2.23671423e-01,  1.94228734e-01,  1.68759184e-01,  1.30364082e-01,\n",
       "        1.63000921e-01,  1.23430967e-01,  1.54447154e-01,  2.49233869e-01,\n",
       "        1.16008386e-01,  5.18118512e-02,  4.50212730e-02,  2.32013209e-01,\n",
       "        9.15060582e-02,  9.80216039e-02,  9.87890999e-02,  5.22771804e-02,\n",
       "       -7.36297036e-02,  8.67186577e-02, -3.15939689e-02,  9.74043540e-02,\n",
       "        1.03389858e-01,  8.47326076e-02,  2.92687951e-01,  5.72375562e-03,\n",
       "        4.74704193e-02,  1.08374844e-01,  1.25026319e-01,  1.22375104e-01,\n",
       "        2.48249420e-01,  1.33189467e-01,  2.12089311e-01,  1.15613626e-01,\n",
       "        1.35992176e-01,  1.59182670e-01,  1.12391302e-01,  1.00287558e-01,\n",
       "        9.91832243e-02,  1.51771096e-01,  2.63196836e-02,  5.36226813e-02,\n",
       "        8.71118531e-02,  4.98512493e-03,  9.10305040e-02, -1.30164983e-01,\n",
       "        1.08876709e-01, -4.30654660e-02,  1.96513200e-01, -1.67019340e-02,\n",
       "       -3.88698400e-02,  8.95212402e-03,  6.20362521e-02,  2.50076272e-01,\n",
       "        2.29189350e-02,  8.45756154e-02,  3.34028276e-02,  3.38372301e-02,\n",
       "        1.96542563e-01,  6.78012234e-02,  1.30190652e-01,  7.53503979e-02,\n",
       "        7.76076327e-02,  1.05611071e-01, -4.00700217e-03,  8.53962032e-02,\n",
       "        1.30609575e-02,  2.77025493e-01,  2.96629362e-02,  2.15851408e-03,\n",
       "        3.16305988e-01,  1.85380892e-01,  8.69025905e-02,  2.58826672e-01,\n",
       "        2.50292092e-01,  7.25705197e-02,  2.06762991e-01,  1.95164867e-01,\n",
       "        1.72755259e-01,  1.47197315e-01,  1.27947871e-01,  1.49757922e-01,\n",
       "        2.00044202e-01,  1.15610752e-01,  8.56122623e-02,  1.25695779e-01,\n",
       "        8.07609930e-02,  4.73181320e-02,  9.95020705e-02,  8.23509625e-02,\n",
       "        9.80681144e-02,  7.48625232e-02,  5.02448282e-03,  9.71496324e-02,\n",
       "        4.83252145e-02,  3.59370614e-02,  8.40007219e-02,  1.55671859e-01,\n",
       "        1.77621855e-01,  6.92587841e-02,  9.68245585e-02,  1.19100190e-01,\n",
       "        1.22699455e-01,  2.27900388e-01,  8.58146079e-02,  1.04952624e-01,\n",
       "       -1.64081530e-02,  1.32801625e-01,  1.00289849e-01,  4.76378415e-02,\n",
       "        3.93668581e-02,  2.86275064e-01,  1.74593991e-01,  8.19989837e-02,\n",
       "        4.78663919e-02,  3.28226842e-02,  4.48994688e-02,  6.23681789e-02,\n",
       "        2.12839309e-01,  2.06081083e-01,  5.84159474e-02,  6.23611478e-02,\n",
       "        1.75967579e-01,  1.63496642e-01,  1.93783177e-01, -4.79217028e-02,\n",
       "        1.16692152e-01,  9.72666427e-02,  1.06504667e-01,  4.31679234e-02,\n",
       "        9.14802505e-02,  7.25144508e-02,  8.09415232e-03,  7.37319256e-02,\n",
       "        1.07392261e-01,  9.99121934e-02,  1.50728624e-01,  4.32547628e-02,\n",
       "        7.69114951e-02,  2.80175289e-02,  1.07965606e-01,  9.65843174e-02,\n",
       "        1.30364082e-01,  2.15181267e-02,  1.71496169e-01,  1.51864314e-01,\n",
       "        1.31717852e-01, -1.35763106e-02,  1.83920800e-02,  5.01372704e-02,\n",
       "        7.05123097e-02,  2.34341682e-01,  1.49453726e-01,  6.67107991e-02,\n",
       "        7.64403957e-02,  2.86713071e-02,  1.45491810e-01,  7.24273560e-02,\n",
       "        1.39796982e-01,  2.21547293e-01,  2.26906905e-01,  4.56549307e-02,\n",
       "        1.08276190e-01,  7.95945317e-02,  1.96932845e-01,  1.40267749e-01,\n",
       "        1.71989344e-01,  1.97094398e-01,  7.56221185e-02,  7.32090908e-02,\n",
       "        1.83568508e-01,  1.59311000e-01,  2.48932741e-01,  8.68902357e-02,\n",
       "        1.49230809e-02,  2.26393765e-02,  1.36744119e-01,  4.52697587e-02,\n",
       "        7.68323044e-02,  2.07786137e-01,  2.48988219e-01,  1.48096269e-01,\n",
       "        1.02915478e-01,  2.23035847e-01,  2.92321070e-01,  2.39719971e-01,\n",
       "        2.58762271e-01,  2.31349099e-01,  1.63187733e-01,  2.14895558e-01,\n",
       "        2.25558911e-01,  9.68587759e-02,  1.88190719e-01,  3.49967631e-01,\n",
       "        2.30556228e-01,  3.33990751e-01,  2.77009857e-01,  9.99999981e-01])"
      ]
     },
     "execution_count": 37,
     "metadata": {},
     "output_type": "execute_result"
    }
   ],
   "source": [
    "scores"
   ]
  },
  {
   "cell_type": "code",
   "execution_count": 41,
   "metadata": {},
   "outputs": [
    {
     "data": {
      "text/plain": [
       "0.9999999812027365"
      ]
     },
     "execution_count": 41,
     "metadata": {},
     "output_type": "execute_result"
    }
   ],
   "source": [
    "np.max(scores)"
   ]
  },
  {
   "cell_type": "code",
   "execution_count": 42,
   "metadata": {},
   "outputs": [
    {
     "data": {
      "text/plain": [
       "[{'text': 'Problem description\\nInfrastructure created in AWS with CD-Deploy Action needs to be destroyed\\nSolution description\\nFrom local:\\nterraform init -backend-config=\"key=mlops-zoomcamp-prod.tfstate\" --reconfigure\\nterraform destroy --var-file vars/prod.tfvars\\nAdded by Erick Calderin',\n",
       "  'section': 'Module 6: Best practices',\n",
       "  'question': 'How to destroy infrastructure created via GitHub Actions',\n",
       "  'course': 'mlops-zoomcamp',\n",
       "  'id': '886d1617'},\n",
       " {'text': 'If you are on the free trial account on GCP you will face this issue when trying to deploy the infrastructures with terraform. This service is not available for this kind of account.\\nThe solution I found was to delete the load_balancer.tf file and to comment or delete the rows that differentiate it on the main.tf file. After this just do terraform destroy to delete any infrastructure created on the fail attempts and re-run the terraform apply.\\nCode on main.tf to comment/delete:\\nLine 166, 167, 168',\n",
       "  'section': 'Module 2: Workflow Orchestration',\n",
       "  'question': 'GCP - 2.2.7d Load Balancer Problem (Security Policies quota)',\n",
       "  'course': 'data-engineering-zoomcamp',\n",
       "  'id': 'bc269b95'},\n",
       " {'text': \"If you get the following error\\nYou have to edit variables.tf on the gcp folder, set your project-id and region and zones properly. Then, run terraform apply again.\\nYou can find correct regions/zones here: https://cloud.google.com/compute/docs/regions-zones\\nDeploying MAGE to GCP  with Terraform via the VM (2.2.7)\\nFYI - It can take up to 20 minutes to deploy the MAGE Terraform files if you are using a GCP Virtual Machine. It is normal, so don’t interrupt the process or think it’s taking too long. If you have, make sure you run a terraform destroy before trying again as you will have likely partially created resources which will cause errors next time you run `terraform apply`.\\n`terraform destroy` may not completely delete partial resources - go to Google Cloud Console and use the search bar at the top to search for the ‘app.name’ you declared in your variables.tf file; this will list all resources with that name - make sure you delete them all before running `terraform apply` again.\\nWhy are my GCP free credits going so fast? MAGE .tf files - Terraform Destroy not destroying all Resources\\nI checked my GCP billing last night & the MAGE Terraform IaC didn't destroy a GCP Resource called Filestore as ‘mage-data-prep- it has been costing £5.01 of my free credits each day  I now have £151 left - Alexey has assured me that This amount WILL BE SUFFICIENT funds to finish the course. Note to anyone who had issues deploying the MAGE terraform code: check your billing account to see what you're being charged for (main menu - billing) (even if it's your free credits) and run a search for 'mage-data-prep' in the top bar just to be sure that your resources have been destroyed - if any come up delete them.\",\n",
       "  'section': 'Module 2: Workflow Orchestration',\n",
       "  'question': 'GCP - 2.2.7d Part 2 - Getting error when you run terraform apply',\n",
       "  'course': 'data-engineering-zoomcamp',\n",
       "  'id': '10ea342e'},\n",
       " {'text': 'You get this error because I run the command terraform init outside the working directory, and this is wrong.You need first to navigate to the working directory that contains terraform configuration files, and and then run the command.',\n",
       "  'section': 'Module 1: Docker and Terraform',\n",
       "  'question': 'Terraform - Terraform initialized in an empty directory! The directory has no Terraform configuration files. You may begin working with Terraform immediately by creating Terraform configuration files.g',\n",
       "  'course': 'data-engineering-zoomcamp',\n",
       "  'id': '29d3d343'},\n",
       " {'text': 'The video DE Zoomcamp 2.2.7 is missing  the actual deployment of Mage using Terraform to GCP. The steps for the deployment were not covered in the video.\\nI successfully deployed it and wanted to share some key points:\\nIn variables.tf, set the project_id default value to your GCP project ID.\\nEnable the Cloud Filestore API:\\nVisit the Google Cloud Console.to\\nNavigate to \"APIs & Services\" > \"Library.\"\\nSearch for \"Cloud Filestore API.\"\\nClick on the API and enable it.\\nTo perform the deployment:\\nterraform init\\nterraform apply\\nPlease note that during the terraform apply step, Terraform will prompt you to enter the PostgreSQL password. After that, it will ask for confirmation to proceed with the deployment. Review the changes, type \\'yes\\' when prompted, and press Enter.',\n",
       "  'section': 'Module 2: Workflow Orchestration',\n",
       "  'question': 'GCP - 2.2.7d Deploying Mage to GCP',\n",
       "  'course': 'data-engineering-zoomcamp',\n",
       "  'id': 'a2c7b59f'}]"
      ]
     },
     "execution_count": 42,
     "metadata": {},
     "output_type": "execute_result"
    }
   ],
   "source": [
    "class VectorSearchEngine():\n",
    "    def __init__(self, documents, embeddings):\n",
    "        self.documents = documents\n",
    "        self.embeddings = embeddings\n",
    "\n",
    "    def search(self, v_query, num_results=10):\n",
    "        scores = self.embeddings.dot(v_query)\n",
    "        idx = np.argsort(-scores)[:num_results]\n",
    "        return [self.documents[i] for i in idx]\n",
    "\n",
    "search_engine = VectorSearchEngine(documents=documents, embeddings=X)\n",
    "search_engine.search(v, num_results=5)"
   ]
  },
  {
   "cell_type": "code",
   "execution_count": null,
   "metadata": {},
   "outputs": [],
   "source": []
  }
 ],
 "metadata": {
  "kernelspec": {
   "display_name": "Python 3",
   "language": "python",
   "name": "python3"
  },
  "language_info": {
   "codemirror_mode": {
    "name": "ipython",
    "version": 3
   },
   "file_extension": ".py",
   "mimetype": "text/x-python",
   "name": "python",
   "nbconvert_exporter": "python",
   "pygments_lexer": "ipython3",
   "version": "3.10.13"
  }
 },
 "nbformat": 4,
 "nbformat_minor": 2
}
